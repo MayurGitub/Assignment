{
 "cells": [
  {
   "cell_type": "code",
   "execution_count": null,
   "id": "939bd1d1",
   "metadata": {},
   "outputs": [],
   "source": [
    "import numpy as np\n",
    "import cv2\n",
    "from keras.applications.vgg16 import VGG16\n",
    "from keras.preprocessing.image import load_img,img_to_array\n",
    "from keras.applications.vgg16 import preprocess_input, decode_predictions\n"
   ]
  },
  {
   "cell_type": "code",
   "execution_count": null,
   "id": "31f7a65e",
   "metadata": {},
   "outputs": [],
   "source": [
    "def Pridict_image(image_path):\n",
    "   \n",
    "    image=load_img(img_path, target_size=(224, 224))\n",
    "    \n",
    "    image_array = image.img_to_array(image)\n",
    "    \n",
    "    image_array = np.expand_dims(image_array, axis=0)\n",
    "    \n",
    "    image_array = preprocess_input(image_array)\n",
    "    \n",
    "    \n",
    "    model = VGG16(weights='imagenet')\n",
    "\n",
    "    prediction = model.predict(image_array)\n",
    "    \n",
    "    class_index=np.argmax(prediction[0])\n",
    "    \n",
    "    class_label=VGG16.decode_prediction(prediction,top=1)[0][0][1]\n",
    "    \n",
    "    prebability_score=prediction[0][class_index]\n",
    "    \n",
    "    \n",
    "    return class_label,prebability_score\n"
   ]
  },
  {
   "cell_type": "code",
   "execution_count": null,
   "id": "9878c52e",
   "metadata": {},
   "outputs": [],
   "source": [
    "img_path = 'path/to/image.jpg'\n",
    "\n",
    "class_label,prebability_score = Pridict_image(image_path)\n",
    "\n",
    "print(f'Predicted class label: {class_labels}')\n",
    "\n",
    "print(f'Predicted prebability_score: {prebability_score}')\n"
   ]
  },
  {
   "cell_type": "code",
   "execution_count": null,
   "id": "2a02a69e",
   "metadata": {},
   "outputs": [],
   "source": []
  },
  {
   "cell_type": "code",
   "execution_count": null,
   "id": "02824f37",
   "metadata": {},
   "outputs": [],
   "source": []
  }
 ],
 "metadata": {
  "kernelspec": {
   "display_name": "Python 3 (ipykernel)",
   "language": "python",
   "name": "python3"
  },
  "language_info": {
   "codemirror_mode": {
    "name": "ipython",
    "version": 3
   },
   "file_extension": ".py",
   "mimetype": "text/x-python",
   "name": "python",
   "nbconvert_exporter": "python",
   "pygments_lexer": "ipython3",
   "version": "3.9.12"
  }
 },
 "nbformat": 4,
 "nbformat_minor": 5
}
